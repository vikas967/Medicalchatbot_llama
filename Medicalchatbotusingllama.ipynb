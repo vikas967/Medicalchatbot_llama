{
 "cells": [
  {
   "cell_type": "code",
   "execution_count": 1,
   "id": "ea494514-97cc-4221-8822-e1c907d5de79",
   "metadata": {},
   "outputs": [],
   "source": [
    "from langchain import PromptTemplate\n",
    "from langchain.chains import RetrievalQA\n",
    "from langchain.embeddings import HuggingFaceEmbeddings\n",
    "from langchain.vectorstores import pinecone\n",
    "import pinecone\n",
    "from langchain_community.document_loaders import PyPDFLoader, DirectoryLoader\n",
    "from langchain.text_splitter import RecursiveCharacterTextSplitter\n",
    "from langchain_community.llms import CTransformers\n",
    "from langchain.prompts import PromptTemplate"
   ]
  },
  {
   "cell_type": "code",
   "execution_count": 2,
   "id": "1d812b66-f045-4609-b804-800af5caba2e",
   "metadata": {},
   "outputs": [
    {
     "name": "stdout",
     "output_type": "stream",
     "text": [
      "Loaded 759 pages.\n"
     ]
    }
   ],
   "source": [
    "from llama_index.readers.file import PDFReader\n",
    "\n",
    "loader = PDFReader()\n",
    "documents = loader.load_data(\"medical_book.pdf\")  # Just a string, not a list\n",
    "  # expects a list\n",
    "print(f\"Loaded {len(documents)} pages.\")\n"
   ]
  },
  {
   "cell_type": "code",
   "execution_count": 3,
   "id": "78f21ffa-2961-4fda-b3f7-a859a1539215",
   "metadata": {},
   "outputs": [
    {
     "name": "stdout",
     "output_type": "stream",
     "text": [
      "Requirement already satisfied: llama-index-embeddings-huggingface in c:\\users\\vikas\\miniconda3\\envs\\genaivikas310\\lib\\site-packages (0.5.4)\n",
      "Requirement already satisfied: huggingface-hub>=0.19.0 in c:\\users\\vikas\\miniconda3\\envs\\genaivikas310\\lib\\site-packages (from huggingface-hub[inference]>=0.19.0->llama-index-embeddings-huggingface) (0.33.0)\n",
      "Requirement already satisfied: llama-index-core<0.13,>=0.12.0 in c:\\users\\vikas\\miniconda3\\envs\\genaivikas310\\lib\\site-packages (from llama-index-embeddings-huggingface) (0.12.42)\n",
      "Requirement already satisfied: sentence-transformers>=2.6.1 in c:\\users\\vikas\\miniconda3\\envs\\genaivikas310\\lib\\site-packages (from llama-index-embeddings-huggingface) (4.1.0)\n",
      "Requirement already satisfied: aiohttp<4,>=3.8.6 in c:\\users\\vikas\\miniconda3\\envs\\genaivikas310\\lib\\site-packages (from llama-index-core<0.13,>=0.12.0->llama-index-embeddings-huggingface) (3.12.13)\n",
      "Requirement already satisfied: aiosqlite in c:\\users\\vikas\\miniconda3\\envs\\genaivikas310\\lib\\site-packages (from llama-index-core<0.13,>=0.12.0->llama-index-embeddings-huggingface) (0.21.0)\n",
      "Requirement already satisfied: banks<3,>=2.0.0 in c:\\users\\vikas\\miniconda3\\envs\\genaivikas310\\lib\\site-packages (from llama-index-core<0.13,>=0.12.0->llama-index-embeddings-huggingface) (2.1.2)\n",
      "Requirement already satisfied: dataclasses-json in c:\\users\\vikas\\miniconda3\\envs\\genaivikas310\\lib\\site-packages (from llama-index-core<0.13,>=0.12.0->llama-index-embeddings-huggingface) (0.6.7)\n",
      "Requirement already satisfied: deprecated>=1.2.9.3 in c:\\users\\vikas\\miniconda3\\envs\\genaivikas310\\lib\\site-packages (from llama-index-core<0.13,>=0.12.0->llama-index-embeddings-huggingface) (1.2.18)\n",
      "Requirement already satisfied: dirtyjson<2,>=1.0.8 in c:\\users\\vikas\\miniconda3\\envs\\genaivikas310\\lib\\site-packages (from llama-index-core<0.13,>=0.12.0->llama-index-embeddings-huggingface) (1.0.8)\n",
      "Requirement already satisfied: filetype<2,>=1.2.0 in c:\\users\\vikas\\miniconda3\\envs\\genaivikas310\\lib\\site-packages (from llama-index-core<0.13,>=0.12.0->llama-index-embeddings-huggingface) (1.2.0)\n",
      "Requirement already satisfied: fsspec>=2023.5.0 in c:\\users\\vikas\\miniconda3\\envs\\genaivikas310\\lib\\site-packages (from llama-index-core<0.13,>=0.12.0->llama-index-embeddings-huggingface) (2025.5.1)\n",
      "Requirement already satisfied: httpx in c:\\users\\vikas\\miniconda3\\envs\\genaivikas310\\lib\\site-packages (from llama-index-core<0.13,>=0.12.0->llama-index-embeddings-huggingface) (0.28.1)\n",
      "Requirement already satisfied: nest-asyncio<2,>=1.5.8 in c:\\users\\vikas\\miniconda3\\envs\\genaivikas310\\lib\\site-packages (from llama-index-core<0.13,>=0.12.0->llama-index-embeddings-huggingface) (1.6.0)\n",
      "Requirement already satisfied: networkx>=3.0 in c:\\users\\vikas\\miniconda3\\envs\\genaivikas310\\lib\\site-packages (from llama-index-core<0.13,>=0.12.0->llama-index-embeddings-huggingface) (3.4.2)\n",
      "Requirement already satisfied: nltk>3.8.1 in c:\\users\\vikas\\miniconda3\\envs\\genaivikas310\\lib\\site-packages (from llama-index-core<0.13,>=0.12.0->llama-index-embeddings-huggingface) (3.9.1)\n",
      "Requirement already satisfied: numpy in c:\\users\\vikas\\miniconda3\\envs\\genaivikas310\\lib\\site-packages (from llama-index-core<0.13,>=0.12.0->llama-index-embeddings-huggingface) (2.2.6)\n",
      "Requirement already satisfied: pillow>=9.0.0 in c:\\users\\vikas\\miniconda3\\envs\\genaivikas310\\lib\\site-packages (from llama-index-core<0.13,>=0.12.0->llama-index-embeddings-huggingface) (11.2.1)\n",
      "Requirement already satisfied: pydantic>=2.8.0 in c:\\users\\vikas\\miniconda3\\envs\\genaivikas310\\lib\\site-packages (from llama-index-core<0.13,>=0.12.0->llama-index-embeddings-huggingface) (2.11.7)\n",
      "Requirement already satisfied: pyyaml>=6.0.1 in c:\\users\\vikas\\miniconda3\\envs\\genaivikas310\\lib\\site-packages (from llama-index-core<0.13,>=0.12.0->llama-index-embeddings-huggingface) (6.0.2)\n",
      "Requirement already satisfied: requests>=2.31.0 in c:\\users\\vikas\\miniconda3\\envs\\genaivikas310\\lib\\site-packages (from llama-index-core<0.13,>=0.12.0->llama-index-embeddings-huggingface) (2.32.4)\n",
      "Requirement already satisfied: sqlalchemy>=1.4.49 in c:\\users\\vikas\\miniconda3\\envs\\genaivikas310\\lib\\site-packages (from sqlalchemy[asyncio]>=1.4.49->llama-index-core<0.13,>=0.12.0->llama-index-embeddings-huggingface) (2.0.41)\n",
      "Requirement already satisfied: tenacity!=8.4.0,<10.0.0,>=8.2.0 in c:\\users\\vikas\\miniconda3\\envs\\genaivikas310\\lib\\site-packages (from llama-index-core<0.13,>=0.12.0->llama-index-embeddings-huggingface) (9.1.2)\n",
      "Requirement already satisfied: tiktoken>=0.7.0 in c:\\users\\vikas\\miniconda3\\envs\\genaivikas310\\lib\\site-packages (from llama-index-core<0.13,>=0.12.0->llama-index-embeddings-huggingface) (0.9.0)\n",
      "Requirement already satisfied: tqdm<5,>=4.66.1 in c:\\users\\vikas\\miniconda3\\envs\\genaivikas310\\lib\\site-packages (from llama-index-core<0.13,>=0.12.0->llama-index-embeddings-huggingface) (4.67.1)\n",
      "Requirement already satisfied: typing-extensions>=4.5.0 in c:\\users\\vikas\\miniconda3\\envs\\genaivikas310\\lib\\site-packages (from llama-index-core<0.13,>=0.12.0->llama-index-embeddings-huggingface) (4.14.0)\n",
      "Requirement already satisfied: typing-inspect>=0.8.0 in c:\\users\\vikas\\miniconda3\\envs\\genaivikas310\\lib\\site-packages (from llama-index-core<0.13,>=0.12.0->llama-index-embeddings-huggingface) (0.9.0)\n",
      "Requirement already satisfied: wrapt in c:\\users\\vikas\\miniconda3\\envs\\genaivikas310\\lib\\site-packages (from llama-index-core<0.13,>=0.12.0->llama-index-embeddings-huggingface) (1.17.2)\n",
      "Requirement already satisfied: aiohappyeyeballs>=2.5.0 in c:\\users\\vikas\\miniconda3\\envs\\genaivikas310\\lib\\site-packages (from aiohttp<4,>=3.8.6->llama-index-core<0.13,>=0.12.0->llama-index-embeddings-huggingface) (2.6.1)\n",
      "Requirement already satisfied: aiosignal>=1.1.2 in c:\\users\\vikas\\miniconda3\\envs\\genaivikas310\\lib\\site-packages (from aiohttp<4,>=3.8.6->llama-index-core<0.13,>=0.12.0->llama-index-embeddings-huggingface) (1.3.2)\n",
      "Requirement already satisfied: async-timeout<6.0,>=4.0 in c:\\users\\vikas\\miniconda3\\envs\\genaivikas310\\lib\\site-packages (from aiohttp<4,>=3.8.6->llama-index-core<0.13,>=0.12.0->llama-index-embeddings-huggingface) (4.0.3)\n",
      "Requirement already satisfied: attrs>=17.3.0 in c:\\users\\vikas\\miniconda3\\envs\\genaivikas310\\lib\\site-packages (from aiohttp<4,>=3.8.6->llama-index-core<0.13,>=0.12.0->llama-index-embeddings-huggingface) (25.3.0)\n",
      "Requirement already satisfied: frozenlist>=1.1.1 in c:\\users\\vikas\\miniconda3\\envs\\genaivikas310\\lib\\site-packages (from aiohttp<4,>=3.8.6->llama-index-core<0.13,>=0.12.0->llama-index-embeddings-huggingface) (1.7.0)\n",
      "Requirement already satisfied: multidict<7.0,>=4.5 in c:\\users\\vikas\\miniconda3\\envs\\genaivikas310\\lib\\site-packages (from aiohttp<4,>=3.8.6->llama-index-core<0.13,>=0.12.0->llama-index-embeddings-huggingface) (6.4.4)\n",
      "Requirement already satisfied: propcache>=0.2.0 in c:\\users\\vikas\\miniconda3\\envs\\genaivikas310\\lib\\site-packages (from aiohttp<4,>=3.8.6->llama-index-core<0.13,>=0.12.0->llama-index-embeddings-huggingface) (0.3.2)\n",
      "Requirement already satisfied: yarl<2.0,>=1.17.0 in c:\\users\\vikas\\miniconda3\\envs\\genaivikas310\\lib\\site-packages (from aiohttp<4,>=3.8.6->llama-index-core<0.13,>=0.12.0->llama-index-embeddings-huggingface) (1.20.1)\n",
      "Requirement already satisfied: griffe in c:\\users\\vikas\\miniconda3\\envs\\genaivikas310\\lib\\site-packages (from banks<3,>=2.0.0->llama-index-core<0.13,>=0.12.0->llama-index-embeddings-huggingface) (1.7.3)\n",
      "Requirement already satisfied: jinja2 in c:\\users\\vikas\\miniconda3\\envs\\genaivikas310\\lib\\site-packages (from banks<3,>=2.0.0->llama-index-core<0.13,>=0.12.0->llama-index-embeddings-huggingface) (3.1.6)\n",
      "Requirement already satisfied: platformdirs in c:\\users\\vikas\\miniconda3\\envs\\genaivikas310\\lib\\site-packages (from banks<3,>=2.0.0->llama-index-core<0.13,>=0.12.0->llama-index-embeddings-huggingface) (4.3.8)\n",
      "Requirement already satisfied: colorama in c:\\users\\vikas\\miniconda3\\envs\\genaivikas310\\lib\\site-packages (from tqdm<5,>=4.66.1->llama-index-core<0.13,>=0.12.0->llama-index-embeddings-huggingface) (0.4.6)\n",
      "Requirement already satisfied: idna>=2.0 in c:\\users\\vikas\\miniconda3\\envs\\genaivikas310\\lib\\site-packages (from yarl<2.0,>=1.17.0->aiohttp<4,>=3.8.6->llama-index-core<0.13,>=0.12.0->llama-index-embeddings-huggingface) (3.10)\n",
      "Requirement already satisfied: filelock in c:\\users\\vikas\\miniconda3\\envs\\genaivikas310\\lib\\site-packages (from huggingface-hub>=0.19.0->huggingface-hub[inference]>=0.19.0->llama-index-embeddings-huggingface) (3.18.0)\n",
      "Requirement already satisfied: packaging>=20.9 in c:\\users\\vikas\\miniconda3\\envs\\genaivikas310\\lib\\site-packages (from huggingface-hub>=0.19.0->huggingface-hub[inference]>=0.19.0->llama-index-embeddings-huggingface) (24.2)\n",
      "Requirement already satisfied: click in c:\\users\\vikas\\miniconda3\\envs\\genaivikas310\\lib\\site-packages (from nltk>3.8.1->llama-index-core<0.13,>=0.12.0->llama-index-embeddings-huggingface) (8.1.8)\n",
      "Requirement already satisfied: joblib in c:\\users\\vikas\\miniconda3\\envs\\genaivikas310\\lib\\site-packages (from nltk>3.8.1->llama-index-core<0.13,>=0.12.0->llama-index-embeddings-huggingface) (1.5.1)\n",
      "Requirement already satisfied: regex>=2021.8.3 in c:\\users\\vikas\\miniconda3\\envs\\genaivikas310\\lib\\site-packages (from nltk>3.8.1->llama-index-core<0.13,>=0.12.0->llama-index-embeddings-huggingface) (2024.11.6)\n",
      "Requirement already satisfied: annotated-types>=0.6.0 in c:\\users\\vikas\\miniconda3\\envs\\genaivikas310\\lib\\site-packages (from pydantic>=2.8.0->llama-index-core<0.13,>=0.12.0->llama-index-embeddings-huggingface) (0.7.0)\n",
      "Requirement already satisfied: pydantic-core==2.33.2 in c:\\users\\vikas\\miniconda3\\envs\\genaivikas310\\lib\\site-packages (from pydantic>=2.8.0->llama-index-core<0.13,>=0.12.0->llama-index-embeddings-huggingface) (2.33.2)\n",
      "Requirement already satisfied: typing-inspection>=0.4.0 in c:\\users\\vikas\\miniconda3\\envs\\genaivikas310\\lib\\site-packages (from pydantic>=2.8.0->llama-index-core<0.13,>=0.12.0->llama-index-embeddings-huggingface) (0.4.1)\n",
      "Requirement already satisfied: charset_normalizer<4,>=2 in c:\\users\\vikas\\miniconda3\\envs\\genaivikas310\\lib\\site-packages (from requests>=2.31.0->llama-index-core<0.13,>=0.12.0->llama-index-embeddings-huggingface) (3.4.2)\n",
      "Requirement already satisfied: urllib3<3,>=1.21.1 in c:\\users\\vikas\\miniconda3\\envs\\genaivikas310\\lib\\site-packages (from requests>=2.31.0->llama-index-core<0.13,>=0.12.0->llama-index-embeddings-huggingface) (2.4.0)\n",
      "Requirement already satisfied: certifi>=2017.4.17 in c:\\users\\vikas\\miniconda3\\envs\\genaivikas310\\lib\\site-packages (from requests>=2.31.0->llama-index-core<0.13,>=0.12.0->llama-index-embeddings-huggingface) (2025.6.15)\n",
      "Requirement already satisfied: transformers<5.0.0,>=4.41.0 in c:\\users\\vikas\\miniconda3\\envs\\genaivikas310\\lib\\site-packages (from sentence-transformers>=2.6.1->llama-index-embeddings-huggingface) (4.52.4)\n",
      "Requirement already satisfied: torch>=1.11.0 in c:\\users\\vikas\\miniconda3\\envs\\genaivikas310\\lib\\site-packages (from sentence-transformers>=2.6.1->llama-index-embeddings-huggingface) (2.7.1)\n",
      "Requirement already satisfied: scikit-learn in c:\\users\\vikas\\miniconda3\\envs\\genaivikas310\\lib\\site-packages (from sentence-transformers>=2.6.1->llama-index-embeddings-huggingface) (1.7.0)\n",
      "Requirement already satisfied: scipy in c:\\users\\vikas\\miniconda3\\envs\\genaivikas310\\lib\\site-packages (from sentence-transformers>=2.6.1->llama-index-embeddings-huggingface) (1.15.3)\n",
      "Requirement already satisfied: tokenizers<0.22,>=0.21 in c:\\users\\vikas\\miniconda3\\envs\\genaivikas310\\lib\\site-packages (from transformers<5.0.0,>=4.41.0->sentence-transformers>=2.6.1->llama-index-embeddings-huggingface) (0.21.1)\n",
      "Requirement already satisfied: safetensors>=0.4.3 in c:\\users\\vikas\\miniconda3\\envs\\genaivikas310\\lib\\site-packages (from transformers<5.0.0,>=4.41.0->sentence-transformers>=2.6.1->llama-index-embeddings-huggingface) (0.5.3)\n",
      "Requirement already satisfied: greenlet>=1 in c:\\users\\vikas\\miniconda3\\envs\\genaivikas310\\lib\\site-packages (from sqlalchemy>=1.4.49->sqlalchemy[asyncio]>=1.4.49->llama-index-core<0.13,>=0.12.0->llama-index-embeddings-huggingface) (3.2.3)\n",
      "Requirement already satisfied: sympy>=1.13.3 in c:\\users\\vikas\\miniconda3\\envs\\genaivikas310\\lib\\site-packages (from torch>=1.11.0->sentence-transformers>=2.6.1->llama-index-embeddings-huggingface) (1.14.0)\n",
      "Requirement already satisfied: mpmath<1.4,>=1.1.0 in c:\\users\\vikas\\miniconda3\\envs\\genaivikas310\\lib\\site-packages (from sympy>=1.13.3->torch>=1.11.0->sentence-transformers>=2.6.1->llama-index-embeddings-huggingface) (1.3.0)\n",
      "Requirement already satisfied: mypy-extensions>=0.3.0 in c:\\users\\vikas\\miniconda3\\envs\\genaivikas310\\lib\\site-packages (from typing-inspect>=0.8.0->llama-index-core<0.13,>=0.12.0->llama-index-embeddings-huggingface) (1.1.0)\n",
      "Requirement already satisfied: marshmallow<4.0.0,>=3.18.0 in c:\\users\\vikas\\miniconda3\\envs\\genaivikas310\\lib\\site-packages (from dataclasses-json->llama-index-core<0.13,>=0.12.0->llama-index-embeddings-huggingface) (3.26.1)\n",
      "Requirement already satisfied: anyio in c:\\users\\vikas\\miniconda3\\envs\\genaivikas310\\lib\\site-packages (from httpx->llama-index-core<0.13,>=0.12.0->llama-index-embeddings-huggingface) (4.9.0)\n",
      "Requirement already satisfied: httpcore==1.* in c:\\users\\vikas\\miniconda3\\envs\\genaivikas310\\lib\\site-packages (from httpx->llama-index-core<0.13,>=0.12.0->llama-index-embeddings-huggingface) (1.0.9)\n",
      "Requirement already satisfied: h11>=0.16 in c:\\users\\vikas\\miniconda3\\envs\\genaivikas310\\lib\\site-packages (from httpcore==1.*->httpx->llama-index-core<0.13,>=0.12.0->llama-index-embeddings-huggingface) (0.16.0)\n",
      "Requirement already satisfied: exceptiongroup>=1.0.2 in c:\\users\\vikas\\miniconda3\\envs\\genaivikas310\\lib\\site-packages (from anyio->httpx->llama-index-core<0.13,>=0.12.0->llama-index-embeddings-huggingface) (1.3.0)\n",
      "Requirement already satisfied: sniffio>=1.1 in c:\\users\\vikas\\miniconda3\\envs\\genaivikas310\\lib\\site-packages (from anyio->httpx->llama-index-core<0.13,>=0.12.0->llama-index-embeddings-huggingface) (1.3.1)\n",
      "Requirement already satisfied: MarkupSafe>=2.0 in c:\\users\\vikas\\miniconda3\\envs\\genaivikas310\\lib\\site-packages (from jinja2->banks<3,>=2.0.0->llama-index-core<0.13,>=0.12.0->llama-index-embeddings-huggingface) (3.0.2)\n",
      "Requirement already satisfied: threadpoolctl>=3.1.0 in c:\\users\\vikas\\miniconda3\\envs\\genaivikas310\\lib\\site-packages (from scikit-learn->sentence-transformers>=2.6.1->llama-index-embeddings-huggingface) (3.6.0)\n"
     ]
    }
   ],
   "source": [
    "!pip install llama-index-embeddings-huggingface\n"
   ]
  },
  {
   "cell_type": "code",
   "execution_count": 4,
   "id": "ee55fc29-c009-4cac-a269-de02d4b313fb",
   "metadata": {},
   "outputs": [
    {
     "name": "stdout",
     "output_type": "stream",
     "text": [
      "0.12.42\n"
     ]
    }
   ],
   "source": [
    "import importlib.metadata\n",
    "print(importlib.metadata.version(\"llama-index\"))\n",
    "\n"
   ]
  },
  {
   "cell_type": "code",
   "execution_count": 5,
   "id": "768dfaac-8f05-4ace-9c74-d557563f91ff",
   "metadata": {},
   "outputs": [],
   "source": [
    "from llama_index.embeddings.huggingface import HuggingFaceEmbedding\n",
    "from llama_index.core import ServiceContext\n"
   ]
  },
  {
   "cell_type": "code",
   "execution_count": 6,
   "id": "3c3470f1-c0cc-4107-a5c6-e4062ffa67c5",
   "metadata": {},
   "outputs": [],
   "source": [
    "from llama_index.embeddings.huggingface import HuggingFaceEmbedding\n",
    "from llama_index.core import Settings\n",
    "\n",
    "# ⚡ Use a fast model instead of BGE\n",
    "Settings.embed_model = HuggingFaceEmbedding(\n",
    "    model_name=\"sentence-transformers/all-MiniLM-L6-v2\"\n",
    ")\n",
    "\n"
   ]
  },
  {
   "cell_type": "code",
   "execution_count": 7,
   "id": "b1b3e897-a3db-4670-b7d3-485afbe88e7c",
   "metadata": {},
   "outputs": [],
   "source": [
    "from llama_index.core import Settings"
   ]
  },
  {
   "cell_type": "code",
   "execution_count": 9,
   "id": "f0faaafb-13c4-45fb-8237-be5379c130dc",
   "metadata": {},
   "outputs": [
    {
     "ename": "NameError",
     "evalue": "name 'embed_model' is not defined",
     "output_type": "error",
     "traceback": [
      "\u001b[1;31m---------------------------------------------------------------------------\u001b[0m",
      "\u001b[1;31mNameError\u001b[0m                                 Traceback (most recent call last)",
      "Cell \u001b[1;32mIn[9], line 1\u001b[0m\n\u001b[1;32m----> 1\u001b[0m Settings\u001b[38;5;241m.\u001b[39membed_model \u001b[38;5;241m=\u001b[39m \u001b[43membed_model\u001b[49m\n",
      "\u001b[1;31mNameError\u001b[0m: name 'embed_model' is not defined"
     ]
    }
   ],
   "source": [
    "Settings.embed_model = embed_model"
   ]
  },
  {
   "cell_type": "code",
   "execution_count": 10,
   "id": "a6ec92c3-3aaa-480a-9425-e1090e7b3ce2",
   "metadata": {},
   "outputs": [],
   "source": [
    "from llama_index.core import ServiceContext, VectorStoreIndex"
   ]
  },
  {
   "cell_type": "code",
   "execution_count": 11,
   "id": "316caa33-9fdc-481c-a703-1daf5b13f2fa",
   "metadata": {},
   "outputs": [],
   "source": [
    "from llama_index.core import VectorStoreIndex\n",
    "\n",
    "index = VectorStoreIndex.from_documents(documents)\n",
    "\n",
    "\n"
   ]
  },
  {
   "cell_type": "code",
   "execution_count": 12,
   "id": "cb68a243-91fa-4d0e-91a9-18fd1b8bada5",
   "metadata": {},
   "outputs": [
    {
     "name": "stdout",
     "output_type": "stream",
     "text": [
      "LLM is explicitly disabled. Using MockLLM.\n"
     ]
    }
   ],
   "source": [
    "from llama_index.core import Settings\n",
    "Settings.llm = None  # 🚫 Disable OpenAI fallback globally\n"
   ]
  },
  {
   "cell_type": "code",
   "execution_count": 13,
   "id": "21a31e84-3b5c-4fa3-9d1f-2ce0b4f4ed84",
   "metadata": {},
   "outputs": [],
   "source": [
    "query_engine = index.as_query_engine(similarity_top_k=5, llm=None)"
   ]
  },
  {
   "cell_type": "code",
   "execution_count": 14,
   "id": "09ad9c95-8980-4b16-b1d5-241fd7609c69",
   "metadata": {},
   "outputs": [
    {
     "name": "stdout",
     "output_type": "stream",
     "text": [
      "Requirement already satisfied: google-generativeai in c:\\users\\vikas\\miniconda3\\envs\\genaivikas310\\lib\\site-packages (0.8.5)\n",
      "Requirement already satisfied: google-ai-generativelanguage==0.6.15 in c:\\users\\vikas\\miniconda3\\envs\\genaivikas310\\lib\\site-packages (from google-generativeai) (0.6.15)\n",
      "Requirement already satisfied: google-api-core in c:\\users\\vikas\\miniconda3\\envs\\genaivikas310\\lib\\site-packages (from google-generativeai) (2.25.1)\n",
      "Requirement already satisfied: google-api-python-client in c:\\users\\vikas\\miniconda3\\envs\\genaivikas310\\lib\\site-packages (from google-generativeai) (2.172.0)\n",
      "Requirement already satisfied: google-auth>=2.15.0 in c:\\users\\vikas\\miniconda3\\envs\\genaivikas310\\lib\\site-packages (from google-generativeai) (2.40.3)\n",
      "Requirement already satisfied: protobuf in c:\\users\\vikas\\miniconda3\\envs\\genaivikas310\\lib\\site-packages (from google-generativeai) (5.29.5)\n",
      "Requirement already satisfied: pydantic in c:\\users\\vikas\\miniconda3\\envs\\genaivikas310\\lib\\site-packages (from google-generativeai) (2.11.7)\n",
      "Requirement already satisfied: tqdm in c:\\users\\vikas\\miniconda3\\envs\\genaivikas310\\lib\\site-packages (from google-generativeai) (4.67.1)\n",
      "Requirement already satisfied: typing-extensions in c:\\users\\vikas\\miniconda3\\envs\\genaivikas310\\lib\\site-packages (from google-generativeai) (4.14.0)\n",
      "Requirement already satisfied: proto-plus<2.0.0dev,>=1.22.3 in c:\\users\\vikas\\miniconda3\\envs\\genaivikas310\\lib\\site-packages (from google-ai-generativelanguage==0.6.15->google-generativeai) (1.26.1)\n",
      "Requirement already satisfied: googleapis-common-protos<2.0.0,>=1.56.2 in c:\\users\\vikas\\miniconda3\\envs\\genaivikas310\\lib\\site-packages (from google-api-core->google-generativeai) (1.70.0)\n",
      "Requirement already satisfied: requests<3.0.0,>=2.18.0 in c:\\users\\vikas\\miniconda3\\envs\\genaivikas310\\lib\\site-packages (from google-api-core->google-generativeai) (2.32.4)\n",
      "Requirement already satisfied: grpcio<2.0.0,>=1.33.2 in c:\\users\\vikas\\miniconda3\\envs\\genaivikas310\\lib\\site-packages (from google-api-core[grpc]!=2.0.*,!=2.1.*,!=2.10.*,!=2.2.*,!=2.3.*,!=2.4.*,!=2.5.*,!=2.6.*,!=2.7.*,!=2.8.*,!=2.9.*,<3.0.0dev,>=1.34.1->google-ai-generativelanguage==0.6.15->google-generativeai) (1.73.0)\n",
      "Requirement already satisfied: grpcio-status<2.0.0,>=1.33.2 in c:\\users\\vikas\\miniconda3\\envs\\genaivikas310\\lib\\site-packages (from google-api-core[grpc]!=2.0.*,!=2.1.*,!=2.10.*,!=2.2.*,!=2.3.*,!=2.4.*,!=2.5.*,!=2.6.*,!=2.7.*,!=2.8.*,!=2.9.*,<3.0.0dev,>=1.34.1->google-ai-generativelanguage==0.6.15->google-generativeai) (1.71.0)\n",
      "Requirement already satisfied: cachetools<6.0,>=2.0.0 in c:\\users\\vikas\\miniconda3\\envs\\genaivikas310\\lib\\site-packages (from google-auth>=2.15.0->google-generativeai) (5.5.2)\n",
      "Requirement already satisfied: pyasn1-modules>=0.2.1 in c:\\users\\vikas\\miniconda3\\envs\\genaivikas310\\lib\\site-packages (from google-auth>=2.15.0->google-generativeai) (0.4.2)\n",
      "Requirement already satisfied: rsa<5,>=3.1.4 in c:\\users\\vikas\\miniconda3\\envs\\genaivikas310\\lib\\site-packages (from google-auth>=2.15.0->google-generativeai) (4.9.1)\n",
      "Requirement already satisfied: charset_normalizer<4,>=2 in c:\\users\\vikas\\miniconda3\\envs\\genaivikas310\\lib\\site-packages (from requests<3.0.0,>=2.18.0->google-api-core->google-generativeai) (3.4.2)\n",
      "Requirement already satisfied: idna<4,>=2.5 in c:\\users\\vikas\\miniconda3\\envs\\genaivikas310\\lib\\site-packages (from requests<3.0.0,>=2.18.0->google-api-core->google-generativeai) (3.10)\n",
      "Requirement already satisfied: urllib3<3,>=1.21.1 in c:\\users\\vikas\\miniconda3\\envs\\genaivikas310\\lib\\site-packages (from requests<3.0.0,>=2.18.0->google-api-core->google-generativeai) (2.4.0)\n",
      "Requirement already satisfied: certifi>=2017.4.17 in c:\\users\\vikas\\miniconda3\\envs\\genaivikas310\\lib\\site-packages (from requests<3.0.0,>=2.18.0->google-api-core->google-generativeai) (2025.6.15)\n",
      "Requirement already satisfied: pyasn1>=0.1.3 in c:\\users\\vikas\\miniconda3\\envs\\genaivikas310\\lib\\site-packages (from rsa<5,>=3.1.4->google-auth>=2.15.0->google-generativeai) (0.6.1)\n",
      "Requirement already satisfied: httplib2<1.0.0,>=0.19.0 in c:\\users\\vikas\\miniconda3\\envs\\genaivikas310\\lib\\site-packages (from google-api-python-client->google-generativeai) (0.22.0)\n",
      "Requirement already satisfied: google-auth-httplib2<1.0.0,>=0.2.0 in c:\\users\\vikas\\miniconda3\\envs\\genaivikas310\\lib\\site-packages (from google-api-python-client->google-generativeai) (0.2.0)\n",
      "Requirement already satisfied: uritemplate<5,>=3.0.1 in c:\\users\\vikas\\miniconda3\\envs\\genaivikas310\\lib\\site-packages (from google-api-python-client->google-generativeai) (4.2.0)\n",
      "Requirement already satisfied: pyparsing!=3.0.0,!=3.0.1,!=3.0.2,!=3.0.3,<4,>=2.4.2 in c:\\users\\vikas\\miniconda3\\envs\\genaivikas310\\lib\\site-packages (from httplib2<1.0.0,>=0.19.0->google-api-python-client->google-generativeai) (3.2.3)\n",
      "Requirement already satisfied: annotated-types>=0.6.0 in c:\\users\\vikas\\miniconda3\\envs\\genaivikas310\\lib\\site-packages (from pydantic->google-generativeai) (0.7.0)\n",
      "Requirement already satisfied: pydantic-core==2.33.2 in c:\\users\\vikas\\miniconda3\\envs\\genaivikas310\\lib\\site-packages (from pydantic->google-generativeai) (2.33.2)\n",
      "Requirement already satisfied: typing-inspection>=0.4.0 in c:\\users\\vikas\\miniconda3\\envs\\genaivikas310\\lib\\site-packages (from pydantic->google-generativeai) (0.4.1)\n",
      "Requirement already satisfied: colorama in c:\\users\\vikas\\miniconda3\\envs\\genaivikas310\\lib\\site-packages (from tqdm->google-generativeai) (0.4.6)\n"
     ]
    }
   ],
   "source": [
    "!pip install google-generativeai\n"
   ]
  },
  {
   "cell_type": "code",
   "execution_count": 15,
   "id": "417c4d6f-df3a-46ae-a818-148d97512387",
   "metadata": {},
   "outputs": [],
   "source": [
    "import google.generativeai as genai\n",
    "\n",
    "# ⚠️ Set your Gemini API Key\n",
    "genai.configure(api_key=\"YOUR_API_KEY\")\n",
    "\n",
    "# Load the Gemini model\n",
    "gemini_model = genai.GenerativeModel(\"models/gemini-1.5-flash\")\n"
   ]
  },
  {
   "cell_type": "code",
   "execution_count": 16,
   "id": "bedbf6c1-87f4-42a3-9323-7bbd317673d1",
   "metadata": {},
   "outputs": [],
   "source": [
    "def medical_chatbot(question: str) -> str:\n",
    "    # Step 1: Retrieve relevant chunks using LlamaIndex\n",
    "    retrieved_nodes = query_engine.retrieve(question)\n",
    "    context = \"\\n\\n\".join([node.text for node in retrieved_nodes])\n",
    "\n",
    "    # Step 2: Construct the prompt for Gemini\n",
    "    prompt = f\"\"\"\n",
    "You are a helpful and knowledgeable medical assistant.\n",
    "Based on the following medical context, answer the user's question clearly and accurately.\n",
    "\n",
    "Context:\n",
    "{context}\n",
    "\n",
    "Question: {question}\n",
    "\"\"\"\n",
    "\n",
    "    # Step 3: Send to Gemini\n",
    "    try:\n",
    "        response = gemini_model.generate_content(prompt)\n",
    "        return response.text.strip()\n",
    "    except Exception as e:\n",
    "        return f\"❌ Error from Gemini: {e}\"\n"
   ]
  },
  {
   "cell_type": "code",
   "execution_count": 17,
   "id": "6680d6dd-3803-42fe-8a47-f811982e491b",
   "metadata": {},
   "outputs": [
    {
     "name": "stdout",
     "output_type": "stream",
     "text": [
      "The provided text states that dengue fever begins with chills, headache, and fever.  Additional symptoms are not explicitly listed in this excerpt.\n"
     ]
    }
   ],
   "source": [
    "answer = medical_chatbot(\"What are the symptoms of dengue's disease?\")\n",
    "print(answer)\n"
   ]
  },
  {
   "cell_type": "code",
   "execution_count": null,
   "id": "f809627e-c633-4640-84a7-dadff23a7d93",
   "metadata": {},
   "outputs": [],
   "source": []
  },
  {
   "cell_type": "code",
   "execution_count": null,
   "id": "02760079-b0ad-44d7-9da4-d8fdbdc1c6f2",
   "metadata": {},
   "outputs": [],
   "source": [
    "answer = medical_chatbot(\"What is the treatment for depression?\")\n",
    "print(\"Answer:\\n\", answer)\n"
   ]
  },
  {
   "cell_type": "code",
   "execution_count": null,
   "id": "ff9daee1-9a19-42dd-8660-12b1d56dd078",
   "metadata": {},
   "outputs": [],
   "source": [
    "!pip install gradio google-generativeai llama-index sentence-transformers\n"
   ]
  },
  {
   "cell_type": "code",
   "execution_count": 18,
   "id": "1e91345b-bab3-4edb-8cb7-333bb7d11798",
   "metadata": {},
   "outputs": [],
   "source": [
    "import gradio as gr"
   ]
  },
  {
   "cell_type": "code",
   "execution_count": 19,
   "id": "8c007154-a39c-43bc-b201-a6e3d64c44dc",
   "metadata": {},
   "outputs": [
    {
     "name": "stdout",
     "output_type": "stream",
     "text": [
      "* Running on local URL:  http://127.0.0.1:7860\n",
      "* To create a public link, set `share=True` in `launch()`.\n"
     ]
    },
    {
     "data": {
      "text/html": [
       "<div><iframe src=\"http://127.0.0.1:7860/\" width=\"100%\" height=\"500\" allow=\"autoplay; camera; microphone; clipboard-read; clipboard-write;\" frameborder=\"0\" allowfullscreen></iframe></div>"
      ],
      "text/plain": [
       "<IPython.core.display.HTML object>"
      ]
     },
     "metadata": {},
     "output_type": "display_data"
    },
    {
     "data": {
      "text/plain": []
     },
     "execution_count": 19,
     "metadata": {},
     "output_type": "execute_result"
    }
   ],
   "source": [
    "# Gradio UI\n",
    "iface = gr.Interface(\n",
    "    fn=medical_chatbot,\n",
    "    inputs=gr.Textbox(placeholder=\"Ask a medical question...\", lines=3),\n",
    "    outputs=\"text\",\n",
    "    title=\"📘 Medical Chatbot\",\n",
    "    description=\"Ask questions from the Gale Encyclopedia of Medicine using Gemini + LlamaIndex.\",\n",
    ")\n",
    "\n",
    "iface.launch()"
   ]
  },
  {
   "cell_type": "code",
   "execution_count": null,
   "id": "03451599-3e98-48af-b438-c2159f38da1f",
   "metadata": {},
   "outputs": [],
   "source": []
  }
 ],
 "metadata": {
  "kernelspec": {
   "display_name": "Python 3 (ipykernel)",
   "language": "python",
   "name": "python3"
  },
  "language_info": {
   "codemirror_mode": {
    "name": "ipython",
    "version": 3
   },
   "file_extension": ".py",
   "mimetype": "text/x-python",
   "name": "python",
   "nbconvert_exporter": "python",
   "pygments_lexer": "ipython3",
   "version": "3.10.18"
  }
 },
 "nbformat": 4,
 "nbformat_minor": 5
}
